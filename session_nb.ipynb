{
 "cells": [
  {
   "cell_type": "code",
   "execution_count": 2,
   "metadata": {},
   "outputs": [],
   "source": [
    "import random\n",
    "import datetime\n",
    "from faker import Faker\n",
    "from collections import namedtuple\n",
    "\n",
    "from session import timed, create_prof, create_company, get_avg_age, get_max_age, get_mean_location, get_mode_bloodgroup"
   ]
  },
  {
   "cell_type": "code",
   "execution_count": 3,
   "metadata": {},
   "outputs": [
    {
     "name": "stdout",
     "output_type": "stream",
     "text": [
      "O-\n",
      "42173\n",
      "(Decimal('-150.64124175'), Decimal('287.3237665'))\n",
      "20448.93\n",
      "O-\n",
      "42173\n",
      "(Decimal('-150.64124175'), Decimal('287.3237665'))\n",
      "20448.93\n"
     ]
    }
   ],
   "source": [
    "test_prof_tuple, test_prof_dict = create_prof(100)\n",
    "num_runs = 10_00\n",
    "\n",
    "\n",
    "perf_tuples = dict()\n",
    "perf_dict = dict()\n",
    "\n",
    "print(timed(get_mode_bloodgroup, num_runs, perf_tuples)(test_prof_tuple, \"nt\"))\n",
    "print(timed(get_max_age, num_runs, perf_tuples)(test_prof_tuple, \"nt\"))\n",
    "print(timed(get_mean_location, num_runs, perf_tuples)(test_prof_tuple, \"nt\"))\n",
    "print(timed(get_avg_age, num_runs, perf_tuples)(test_prof_tuple, \"nt\"))\n",
    "\n",
    "print(timed(get_mode_bloodgroup, num_runs, perf_dict)(test_prof_dict, \"dict\"))\n",
    "print(timed(get_max_age, num_runs, perf_dict)(test_prof_dict, \"dict\"))\n",
    "print(timed(get_mean_location, num_runs, perf_dict)(test_prof_dict, \"dict\"))\n",
    "print(timed(get_avg_age, num_runs, perf_dict)(test_prof_dict, \"dict\"))"
   ]
  },
  {
   "cell_type": "code",
   "execution_count": 4,
   "metadata": {},
   "outputs": [
    {
     "data": {
      "text/plain": [
       "{'get_mode_bloodgroup': 1.8638000256032683e-08,\n",
       " 'get_max_age': 2.9651499971805606e-07,\n",
       " 'get_mean_location': 3.7693000194849446e-08,\n",
       " 'get_avg_age': 1.4577399997506292e-07}"
      ]
     },
     "execution_count": 4,
     "metadata": {},
     "output_type": "execute_result"
    }
   ],
   "source": [
    "perf_tuples"
   ]
  },
  {
   "cell_type": "code",
   "execution_count": 5,
   "metadata": {},
   "outputs": [
    {
     "data": {
      "text/plain": [
       "{'get_mode_bloodgroup': 2.1054000171716324e-08,\n",
       " 'get_max_age': 3.377419998287223e-07,\n",
       " 'get_mean_location': 4.115100091439672e-08,\n",
       " 'get_avg_age': 1.4367599942488596e-07}"
      ]
     },
     "execution_count": 5,
     "metadata": {},
     "output_type": "execute_result"
    }
   ],
   "source": [
    "perf_dict"
   ]
  },
  {
   "cell_type": "code",
   "execution_count": null,
   "metadata": {},
   "outputs": [],
   "source": []
  },
  {
   "cell_type": "code",
   "execution_count": 6,
   "metadata": {},
   "outputs": [
    {
     "data": {
      "text/plain": [
       "[Company(name='Hoffman, Martinez and Robinson', symbol='INHN', opens=3275, high=3341.791189718795, close=3341.791189718795),\n",
       " Company(name='Jones-Yates', symbol='YOS-', opens=1338, high=1400.1606302964205, close=1400.1606302964205),\n",
       " Company(name='Hanson, Stanley and Cole', symbol='ALNH', opens=2087, high=2354.553353797022, close=2354.553353797022),\n",
       " Company(name='Smith Group', symbol='PHGM', opens=345, high=361.0961945486035, close=361.0961945486035),\n",
       " Company(name='Ramos-Ruiz', symbol='ZSUI', opens=3309, high=3867.99531712113, close=3867.99531712113),\n",
       " Company(name='Mills-Martinez', symbol='SNAL', opens=646, high=634.9545831243727, close=572.6259887540617),\n",
       " Company(name='Mcclain-Moore', symbol='-MIR', opens=3818, high=3959.8811503319275, close=3959.8811503319275),\n",
       " Company(name='Kim-Warner', symbol='MINE', opens=2349, high=2724.257392100618, close=2724.257392100618),\n",
       " Company(name='Adams-Trujillo', symbol='ARAM', opens=2910, high=3287.5983879868627, close=3287.5983879868627),\n",
       " Company(name='Alvarado Inc', symbol='RACV', opens=1821, high=2100.1407442608543, close=1703.4887165965742),\n",
       " Company(name='Hanson Inc', symbol='SHNA', opens=369, high=381.22373213905416, close=360.8061386772344),\n",
       " Company(name='Charles, Rodriguez and Abbott', symbol='DRUA', opens=1239, high=1273.1340346533407, close=1273.1340346533407),\n",
       " Company(name='Joseph Inc', symbol='SHNJ', opens=3178, high=3788.9461895153795, close=3163.1809046768044),\n",
       " Company(name='Brooks PLC', symbol='RPBL', opens=1502, high=1604.7735372419902, close=1530.5308436475646),\n",
       " Company(name='Cannon PLC', symbol='CANN', opens=3415, high=3880.1039127045647, close=3624.175763614054),\n",
       " Company(name='Townsend-Lyons', symbol='NDST', opens=3229, high=3680.947962822022, close=2599.33656155972),\n",
       " Company(name='Martin-Taylor', symbol='A-OA', opens=3203, high=3083.2811067773687, close=2663.7314435393114),\n",
       " Company(name='Francis, Johnson and Andrews', symbol='OHAF', opens=1348, high=1200.2979985345216, close=1164.9422783919906),\n",
       " Company(name='Hammond-Park', symbol='MR-H', opens=3279, high=3396.1859045350534, close=2842.4542971721603),\n",
       " Company(name='Bishop and Sons', symbol='SOIB', opens=3423, high=3946.018706599712, close=3886.42448534392),\n",
       " Company(name='Sampson-Rivera', symbol='ARSS', opens=3962, high=4711.438563881642, close=4186.693036803718),\n",
       " Company(name='Price, Jackson and Jimenez', symbol='OCMI', opens=1175, high=1314.9805506597218, close=987.87772205294),\n",
       " Company(name='Jones-Santos', symbol='JTSO', opens=1386, high=1496.454482588422, close=1398.5491195532675),\n",
       " Company(name='Armstrong LLC', symbol='LMGC', opens=2373, high=2813.8922770205745, close=2367.5653921887447),\n",
       " Company(name='Rodriguez, Peterson and Turner', symbol='SNTE', opens=1300, high=1349.688485726264, close=1349.688485726264),\n",
       " Company(name='Howard, Rodriguez and Branch', symbol='D,HD', opens=1230, high=1447.1121985103716, close=1223.416565005593),\n",
       " Company(name='Hill LLC', symbol='ILLL', opens=2476, high=2485.5078333814954, close=2485.5078333814954),\n",
       " Company(name='Palmer-Allen', symbol='AE-M', opens=2954, high=2923.2740263069663, close=2923.2740263069663),\n",
       " Company(name='Warren-Lowe', symbol='RANW', opens=2893, high=3448.094299440582, close=3448.094299440582),\n",
       " Company(name='Burnett Inc', symbol='NBTN', opens=1213, high=1287.4448069129537, close=1078.293545588422),\n",
       " Company(name='Sanford Inc', symbol='AIDN', opens=1417, high=1478.0214628784404, close=1194.8864454066584),\n",
       " Company(name='Mitchell Inc', symbol='LTIM', opens=1506, high=1743.6347588961696, close=1743.6347588961696),\n",
       " Company(name='Monroe-Mccormick', symbol='CNCE', opens=2587, high=2776.579234612346, close=2511.406452711989),\n",
       " Company(name='Schaefer-Taylor', symbol='RYOA', opens=1847, high=2129.6199601739786, close=1834.2758655297744),\n",
       " Company(name='Sanchez PLC', symbol='PHNA', opens=156, high=158.41054304767383, close=143.32174818903215),\n",
       " Company(name='Moreno-Estrada', symbol='RDEO', opens=137, high=137.42307693370728, close=119.92186467825103),\n",
       " Company(name='Bender PLC', symbol='CNPR', opens=3953, high=3745.7369176238913, close=3656.2807027876834),\n",
       " Company(name='Smith, Casey and Dean', symbol='ASNM', opens=800, high=757.5364825510069, close=757.5364825510069),\n",
       " Company(name='Patterson-Bell', symbol='BONP', opens=3681, high=4383.1126713745225, close=4383.1126713745225),\n",
       " Company(name='Nguyen-Russell', symbol='NULY', opens=3541, high=3368.7676578463575, close=3322.3981275053125),\n",
       " Company(name='Zimmerman Inc', symbol='NEMR', opens=2736, high=2869.3912777054447, close=2869.3912777054447),\n",
       " Company(name='Harvey Inc', symbol='CYVE', opens=1028, high=997.6765766703777, close=997.6765766703777),\n",
       " Company(name='Hester and Sons', symbol='ANRE', opens=1170, high=1295.3510130849163, close=1016.1109399350745),\n",
       " Company(name='Herrera, Rodriguez and Short', symbol='RDOE', opens=3823, high=4458.775091255188, close=4458.775091255188),\n",
       " Company(name='Jacobs-Johnson', symbol='CBHO', opens=742, high=870.0301898029405, close=870.0301898029405),\n",
       " Company(name='Kaufman-Anderson', symbol='KMF-', opens=3954, high=4508.33215582375, close=4508.33215582375),\n",
       " Company(name='Roberson, Nunez and Simmons', symbol='AERO', opens=2534, high=2587.1364865717856, close=2587.1364865717856),\n",
       " Company(name='Zhang Group', symbol='UPRH', opens=3726, high=4071.494029845034, close=3769.284782871334),\n",
       " Company(name='Bond, Martin and Chambers', symbol='RRAD', opens=2571, high=2238.924510923351, close=2077.6665532657576),\n",
       " Company(name='Anderson Inc', symbol='IANE', opens=3364, high=2854.685877659418, close=2728.360446758222),\n",
       " Company(name='Smith and Sons', symbol='HSSN', opens=284, high=339.164377981927, close=258.96567313645903),\n",
       " Company(name='Martinez, Young and Day', symbol='NOUY', opens=3938, high=3863.9865082095826, close=3863.9865082095826),\n",
       " Company(name='Harris, Chan and Cook', symbol='ARSK', opens=3971, high=4642.235886679756, close=4548.36874866605),\n",
       " Company(name='Hughes, Hoover and Peters', symbol='TSEH', opens=1659, high=1911.9256410539117, close=1855.6155778168243),\n",
       " Company(name='Jones, Hall and Murphy', symbol='UNNH', opens=950, high=1115.640561354922, close=1115.640561354922),\n",
       " Company(name='Lee, Barber and Martinez', symbol='R,NE', opens=3698, high=4174.642129956682, close=4174.642129956682),\n",
       " Company(name='Yates Inc', symbol='IAES', opens=377, high=431.1773968753572, close=382.1152192570513),\n",
       " Company(name='Gardner and Sons', symbol='NRON', opens=3635, high=4071.622002101001, close=4071.622002101001),\n",
       " Company(name='Harrell-Thomas', symbol='AALR', opens=1199, high=1019.9380310961947, close=995.6512740936226),\n",
       " Company(name='Alexander, Singleton and Harris', symbol='ATSO', opens=2846, high=3379.0466427881242, close=2674.842224452514),\n",
       " Company(name='Kim, Mcfarland and Green', symbol=',INR', opens=996, high=962.8159735613806, close=962.8159735613806),\n",
       " Company(name='Gonzalez Group', symbol='RGOU', opens=3516, high=3891.8731143177242, close=3302.2663546840295),\n",
       " Company(name='Smith Ltd', symbol='HDST', opens=832, high=894.9270117951354, close=744.3722848692188),\n",
       " Company(name='Stewart, Donaldson and Lloyd', symbol='NNOT', opens=3607, high=3867.1515115297416, close=3867.1515115297416),\n",
       " Company(name='King, Anderson and Mccoy', symbol='KINN', opens=3087, high=3428.6913184793357, close=3166.8882107301806),\n",
       " Company(name='Caldwell Ltd', symbol='LCLA', opens=1662, high=1829.407496653794, close=1829.407496653794),\n",
       " Company(name='Branch-Michael', symbol='BECN', opens=3106, high=3253.501945739313, close=3253.501945739313),\n",
       " Company(name='Terrell-James', symbol='ELTA', opens=3340, high=3695.7067390653524, close=3695.7067390653524),\n",
       " Company(name='Gomez and Sons', symbol='NSAD', opens=3575, high=4056.957504358287, close=3039.004572133171),\n",
       " Company(name='White-Wilson', symbol='IWEO', opens=1107, high=1166.0102121407194, close=1057.2660508352742),\n",
       " Company(name='Anderson, Gray and Williams', symbol='LGIN', opens=847, high=1011.2389754191312, close=944.1449761086409),\n",
       " Company(name='Lopez-Drake', symbol='OLKR', opens=2111, high=2418.1397181255584, close=1923.06711158381),\n",
       " Company(name='Thompson-Newman', symbol='NHST', opens=412, high=486.06823237215565, close=486.06823237215565),\n",
       " Company(name='Marshall-Evans', symbol='MENA', opens=1836, high=1911.3439553759808, close=1911.3439553759808),\n",
       " Company(name='Guerrero and Sons', symbol='EORN', opens=3943, high=3920.116994103335, close=3920.116994103335),\n",
       " Company(name='Suarez, Lopez and Stewart', symbol=',LEE', opens=3051, high=2948.694909501061, close=2649.1334924561093),\n",
       " Company(name='Davila-Long', symbol='DAOV', opens=913, high=1026.0726414904468, close=773.5711999520705),\n",
       " Company(name='Davis LLC', symbol='DVCS', opens=457, high=515.6204927555845, close=515.6204927555845),\n",
       " Company(name='Baird Inc', symbol='CAII', opens=1197, high=1382.2757145940384, close=1382.2757145940384),\n",
       " Company(name='Garcia-Guerrero', symbol='GRRA', opens=2349, high=2479.3483137661096, close=2479.3483137661096),\n",
       " Company(name='Patton-Matthews', symbol='NHTA', opens=1540, high=1700.1927777709548, close=1700.1927777709548),\n",
       " Company(name='Bullock PLC', symbol='KPLC', opens=2427, high=2712.2685850887506, close=2133.6959932282243),\n",
       " Company(name='Burns, Barnes and Gray', symbol='RBR,', opens=3583, high=3725.374325677836, close=3725.374325677836),\n",
       " Company(name='Baker, Gregory and Brown', symbol='RBGR', opens=1578, high=1541.6844989506058, close=1541.6844989506058),\n",
       " Company(name='Perry Group', symbol='ROYU', opens=282, high=314.40024877328983, close=314.40024877328983),\n",
       " Company(name='Gaines, Cline and Love', symbol='END,', opens=3339, high=3868.620348917594, close=3868.620348917594),\n",
       " Company(name='Flores, Torres and Stewart', symbol='RAEO', opens=1018, high=1117.8747663269683, close=1117.8747663269683),\n",
       " Company(name='Ramos Ltd', symbol='TSDO', opens=3795, high=4276.551149074268, close=4276.551149074268),\n",
       " Company(name='Perez, Barnes and Lucas', symbol='ZUAS', opens=2632, high=3142.9395662781044, close=2664.985508655168),\n",
       " Company(name='Lindsey Inc', symbol='IEIN', opens=1132, high=1300.2069766561663, close=1051.674204014492),\n",
       " Company(name='Brown PLC', symbol='NCBP', opens=327, high=328.060034064856, close=328.060034064856),\n",
       " Company(name='Williams PLC', symbol='LWLA', opens=3798, high=3807.696097781649, close=3807.696097781649),\n",
       " Company(name='Hill-Ramos', symbol='A-LL', opens=3176, high=3252.589444681988, close=2863.304001266253),\n",
       " Company(name='Miller, Giles and Tucker', symbol='RMAT', opens=3063, high=3562.921583804514, close=3444.39671748796),\n",
       " Company(name='Cameron, Freeman and Anderson', symbol='NCEM', opens=3184, high=3241.5146558885954, close=2700.36774224604),\n",
       " Company(name='Campbell-Harrell', symbol='HLAE', opens=2062, high=2425.1310988502464, close=2425.1310988502464),\n",
       " Company(name='Smith Ltd', symbol='HTDI', opens=2610, high=3043.733853305112, close=3043.733853305112),\n",
       " Company(name='Robinson, Jenkins and Malone', symbol='AOSO', opens=1538, high=1701.340392138931, close=1701.340392138931),\n",
       " Company(name='Sanchez, Reyes and Knight', symbol=',GTZ', opens=3483, high=3842.849068971004, close=3842.849068971004),\n",
       " Company(name='Davis Ltd', symbol='LDTI', opens=344, high=407.4414402670663, close=407.4414402670663)]"
      ]
     },
     "execution_count": 6,
     "metadata": {},
     "output_type": "execute_result"
    }
   ],
   "source": [
    "create_company(100)"
   ]
  },
  {
   "cell_type": "code",
   "execution_count": null,
   "metadata": {},
   "outputs": [],
   "source": []
  }
 ],
 "metadata": {
  "interpreter": {
   "hash": "d54ce1219b76baabbc22c6d2872f99a448dba77d94717023230c327a3d3694f4"
  },
  "kernelspec": {
   "display_name": "Python 3.9.5 64-bit ('arena_py': conda)",
   "name": "python3"
  },
  "language_info": {
   "codemirror_mode": {
    "name": "ipython",
    "version": 3
   },
   "file_extension": ".py",
   "mimetype": "text/x-python",
   "name": "python",
   "nbconvert_exporter": "python",
   "pygments_lexer": "ipython3",
   "version": "3.9.5"
  },
  "orig_nbformat": 4
 },
 "nbformat": 4,
 "nbformat_minor": 2
}